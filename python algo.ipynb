{
 "cells": [
  {
   "cell_type": "code",
   "execution_count": 53,
   "id": "b8564751",
   "metadata": {},
   "outputs": [],
   "source": [
    "import datetime as dt \n",
    "import pandas as pd\n",
    "import concurrent.futures as cf\n",
    "from yahoofinancials import YahooFinancials\n",
    "import re\n",
    "import ast\n",
    "import time\n",
    "import requests\n",
    "from bs4 import BeautifulSoup"
   ]
  },
  {
   "cell_type": "code",
   "execution_count": 90,
   "id": "27bb4492",
   "metadata": {},
   "outputs": [
    {
     "name": "stdout",
     "output_type": "stream",
     "text": [
      "30 30 False\n"
     ]
    }
   ],
   "source": [
    "asxComp = pd.read_csv('DJI.csv')\n",
    "stockList = asxComp.loc[:,'Symbol'].to_list()\n",
    "# len(stockList)\n",
    "stocks = [stock for stock in stockList]\n",
    "stocks_set = set(stocks)\n",
    "contains_duplicates = len(stocks_set) != len(stocks)\n",
    "contains_duplicates = any(stocks.count(stock) > 1 for stock in stockList)\n",
    "print(len(stocks_set), len(stocks), contains_duplicates)"
   ]
  },
  {
   "cell_type": "code",
   "execution_count": 96,
   "id": "0c062dff",
   "metadata": {},
   "outputs": [
    {
     "name": "stdout",
     "output_type": "stream",
     "text": [
      "WBA\n",
      "{'balanceSheetHistory': {'WBA': [{'2019-08-31': {'commercialPaper': 2400000000.0, 'shareIssued': 1172513618.0, 'capitalStock': 12000000.0, 'payables': 14557000000.0, 'otherCurrentAssets': 1118000000.0, 'totalCapitalization': 35250000000.0, 'longTermDebtAndCapitalLeaseObligation': 11098000000.0, 'minorityInterest': 641000000.0, 'currentDebt': 5738000000.0, 'otherIntangibleAssets': 10876000000.0, 'accountsPayable': 14341000000.0, 'longTermEquityInvestment': 6851000000.0, 'netPPE': 13478000000.0, 'inventory': 9333000000.0, 'leases': 703000000.0, 'totalNonCurrentAssets': 48899000000.0, 'totalNonCurrentLiabilitiesNetMinorityInterest': 17677000000.0, 'totalDebt': 16836000000.0, 'currentLiabilities': 25769000000.0, 'otherNonCurrentLiabilities': 4794000000.0, 'investmentsAndAdvances': 6851000000.0, 'nonCurrentDeferredTaxesLiabilities': 1785000000.0, 'buildingsAndImprovements': 8023000000.0, 'commonStockEquity': 24152000000.0, 'gainsLossesNotAffectingRetainedEarnings': -3897000000.0, 'goodwillAndOtherIntangibleAssets': 16560000000.0, 'totalLiabilitiesNetMinorityInterest': 43446000000.0, 'cashCashEquivalentsAndShortTermInvestments': 1023000000.0, 'treasurySharesNumber': 277126116.0, 'cashAndCashEquivalents': 1023000000.0, 'totalTaxPayable': 216000000.0, 'accountsReceivable': 7226000000.0, 'currentAssets': 18700000000.0, 'totalEquityGrossMinorityInterest': 24152000000.0, 'longTermDebt': 11098000000.0, 'payablesAndAccruedExpenses': 20031000000.0, 'tangibleBookValue': 7592000000.0, 'netDebt': 15813000000.0, 'otherProperties': 13478000000.0, 'preferredStock': 0.0, 'lineOfCredit': 1624000000.0, 'netTangibleAssets': 7592000000.0, 'otherCurrentBorrowings': 1714000000.0, 'investedCapital': 40988000000.0, 'otherNonCurrentAssets': 12010000000.0, 'goodwill': 16560000000.0, 'incomeTaxPayable': 216000000.0, 'receivables': 7226000000.0, 'grossPPE': 13478000000.0, 'accumulatedDepreciation': -11310000000.0, 'nonCurrentDeferredLiabilities': 1785000000.0, 'machineryFurnitureEquipment': 12556000000.0, 'stockholdersEquity': 24152000000.0, 'treasuryStock': 19057000000.0, 'workingCapital': -7069000000.0, 'commonStock': 12000000.0, 'retainedEarnings': 35815000000.0, 'additionalPaidInCapital': 10639000000.0, 'ordinarySharesNumber': 895387502.0, 'properties': 0.0, 'totalAssets': 67598000000.0, 'landAndImprovements': 3507000000.0, 'currentDebtAndCapitalLeaseObligation': 5738000000.0, 'otherEquityAdjustments': -3897000000.0, 'currentAccruedExpenses': 5474000000.0}}, {'2020-08-31': {'commercialPaper': 1517000000.0, 'shareIssued': 1172513618.0, 'capitalStock': 12000000.0, 'payables': 14568000000.0, 'otherCurrentAssets': 974000000.0, 'totalCapitalization': 33339000000.0, 'longTermDebtAndCapitalLeaseObligation': 34176000000.0, 'minorityInterest': 498000000.0, 'currentDebt': 3538000000.0, 'otherIntangibleAssets': 10753000000.0, 'accountsPayable': 14458000000.0, 'longTermEquityInvestment': 7338000000.0, 'netPPE': 35066000000.0, 'inventory': 9451000000.0, 'leases': 1016000000.0, 'totalNonCurrentAssets': 69101000000.0, 'totalNonCurrentLiabilitiesNetMinorityInterest': 38968000000.0, 'totalDebt': 40140000000.0, 'currentLiabilities': 27070000000.0, 'otherNonCurrentLiabilities': 3294000000.0, 'currentCapitalLeaseObligation': 2426000000.0, 'investmentsAndAdvances': 7338000000.0, 'nonCurrentDeferredTaxesLiabilities': 1498000000.0, 'buildingsAndImprovements': 8023000000.0, 'capitalLeaseObligations': 24399000000.0, 'commonStockEquity': 21136000000.0, 'gainsLossesNotAffectingRetainedEarnings': -3771000000.0, 'goodwillAndOtherIntangibleAssets': 26021000000.0, 'totalLiabilitiesNetMinorityInterest': 66038000000.0, 'cashCashEquivalentsAndShortTermInvestments': 516000000.0, 'treasurySharesNumber': 306910099.0, 'cashAndCashEquivalents': 516000000.0, 'totalTaxPayable': 110000000.0, 'accountsReceivable': 7132000000.0, 'currentAssets': 18073000000.0, 'totalEquityGrossMinorityInterest': 21136000000.0, 'longTermDebt': 12203000000.0, 'payablesAndAccruedExpenses': 21107000000.0, 'tangibleBookValue': -4885000000.0, 'netDebt': 15225000000.0, 'otherProperties': 35066000000.0, 'preferredStock': 0.0, 'lineOfCredit': 1071000000.0, 'netTangibleAssets': -4885000000.0, 'otherCurrentBorrowings': 3538000000.0, 'investedCapital': 36877000000.0, 'otherNonCurrentAssets': 676000000.0, 'goodwill': 15268000000.0, 'incomeTaxPayable': 110000000.0, 'receivables': 7132000000.0, 'grossPPE': 35066000000.0, 'accumulatedDepreciation': -12456000000.0, 'nonCurrentDeferredLiabilities': 1498000000.0, 'longTermCapitalLeaseObligation': 21973000000.0, 'machineryFurnitureEquipment': 13505000000.0, 'stockholdersEquity': 21136000000.0, 'treasuryStock': 20575000000.0, 'workingCapital': -8997000000.0, 'commonStock': 12000000.0, 'retainedEarnings': 34210000000.0, 'additionalPaidInCapital': 10761000000.0, 'ordinarySharesNumber': 865603519.0, 'properties': 0.0, 'totalAssets': 87174000000.0, 'landAndImprovements': 3253000000.0, 'currentDebtAndCapitalLeaseObligation': 5964000000.0, 'otherEquityAdjustments': -3771000000.0, 'otherCurrentLiabilities': -1000000.0, 'currentAccruedExpenses': 6539000000.0}}, {'2021-08-31': {'commercialPaper': 0.0, 'shareIssued': 1172513618.0, 'liabilitiesHeldforSaleNonCurrent': 0.0, 'capitalStock': 12000000.0, 'payables': 11230000000.0, 'otherCurrentAssets': 799000000.0, 'totalCapitalization': 31497000000.0, 'longTermDebtAndCapitalLeaseObligation': 29828000000.0, 'minorityInterest': 402000000.0, 'currentDebt': 1305000000.0, 'otherIntangibleAssets': 9936000000.0, 'accountsPayable': 11136000000.0, 'longTermEquityInvestment': 6987000000.0, 'netPPE': 34140000000.0, 'inventory': 8159000000.0, 'leases': 1016000000.0, 'totalNonCurrentAssets': 65471000000.0, 'totalNonCurrentLiabilitiesNetMinorityInterest': 35409000000.0, 'totalDebt': 33392000000.0, 'currentLiabilities': 22054000000.0, 'otherNonCurrentLiabilities': 3412000000.0, 'currentCapitalLeaseObligation': 2259000000.0, 'investmentsAndAdvances': 6987000000.0, 'nonCurrentDeferredTaxesLiabilities': 1850000000.0, 'buildingsAndImprovements': 7569000000.0, 'capitalLeaseObligations': 24412000000.0, 'commonStockEquity': 23822000000.0, 'gainsLossesNotAffectingRetainedEarnings': -2109000000.0, 'preferredSecuritiesOutsideStockEquity': 319000000.0, 'goodwillAndOtherIntangibleAssets': 22357000000.0, 'totalLiabilitiesNetMinorityInterest': 57463000000.0, 'cashCashEquivalentsAndShortTermInvestments': 1193000000.0, 'treasurySharesNumber': 307139982.0, 'cashAndCashEquivalents': 1193000000.0, 'totalTaxPayable': 94000000.0, 'accountsReceivable': 5663000000.0, 'currentAssets': 15814000000.0, 'totalEquityGrossMinorityInterest': 23822000000.0, 'longTermDebt': 7675000000.0, 'payablesAndAccruedExpenses': 18490000000.0, 'tangibleBookValue': 1465000000.0, 'netDebt': 7787000000.0, 'otherProperties': 34140000000.0, 'preferredStock': 0.0, 'lineOfCredit': 0.0, 'assetsHeldForSaleCurrent': 0.0, 'netTangibleAssets': 1465000000.0, 'otherCurrentBorrowings': 1305000000.0, 'investedCapital': 32802000000.0, 'otherNonCurrentAssets': 1987000000.0, 'goodwill': 12421000000.0, 'incomeTaxPayable': 94000000.0, 'receivables': 5663000000.0, 'grossPPE': 34140000000.0, 'accumulatedDepreciation': -13073000000.0, 'nonCurrentDeferredLiabilities': 1850000000.0, 'longTermCapitalLeaseObligation': 22153000000.0, 'machineryFurnitureEquipment': 13938000000.0, 'stockholdersEquity': 23822000000.0, 'treasuryStock': 20593000000.0, 'workingCapital': -6240000000.0, 'commonStock': 12000000.0, 'retainedEarnings': 35121000000.0, 'additionalPaidInCapital': 10988000000.0, 'ordinarySharesNumber': 865373636.0, 'properties': 0.0, 'totalAssets': 81285000000.0, 'landAndImprovements': 2798000000.0, 'currentDebtAndCapitalLeaseObligation': 3564000000.0, 'currentNotesPayable': 0.0, 'otherEquityAdjustments': -2109000000.0, 'otherCurrentLiabilities': -1000000.0, 'currentAccruedExpenses': 7260000000.0}}, {'2022-08-31': {'shareIssued': 1172513618.0, 'capitalStock': 12000000.0, 'payables': 11339000000.0, 'otherCurrentAssets': 1060000000.0, 'totalCapitalization': 39981000000.0, 'longTermDebtAndCapitalLeaseObligation': 32132000000.0, 'minorityInterest': 1042000000.0, 'currentDebt': 1059000000.0, 'otherIntangibleAssets': 10730000000.0, 'otherShortTermInvestments': 1114000000.0, 'accountsPayable': 11255000000.0, 'longTermEquityInvestment': 5495000000.0, 'netPPE': 32988000000.0, 'inventory': 8353000000.0, 'leases': 996000000.0, 'totalNonCurrentAssets': 73222000000.0, 'totalNonCurrentLiabilitiesNetMinorityInterest': 37133000000.0, 'totalDebt': 35477000000.0, 'currentLiabilities': 22583000000.0, 'otherNonCurrentLiabilities': 3559000000.0, 'currentCapitalLeaseObligation': 2286000000.0, 'investmentsAndAdvances': 5495000000.0, 'nonCurrentDeferredTaxesLiabilities': 1442000000.0, 'buildingsAndImprovements': 6996000000.0, 'capitalLeaseObligations': 23803000000.0, 'commonStockEquity': 29366000000.0, 'gainsLossesNotAffectingRetainedEarnings': -2805000000.0, 'goodwillAndOtherIntangibleAssets': 33010000000.0, 'totalLiabilitiesNetMinorityInterest': 59716000000.0, 'cashCashEquivalentsAndShortTermInvestments': 2472000000.0, 'treasurySharesNumber': 307874161.0, 'cashAndCashEquivalents': 1358000000.0, 'totalTaxPayable': 84000000.0, 'accountsReceivable': 5017000000.0, 'currentAssets': 16902000000.0, 'totalEquityGrossMinorityInterest': 30408000000.0, 'longTermDebt': 10615000000.0, 'payablesAndAccruedExpenses': 19238000000.0, 'tangibleBookValue': -3644000000.0, 'netDebt': 10316000000.0, 'otherProperties': 32988000000.0, 'preferredStock': 0.0, 'netTangibleAssets': -3644000000.0, 'otherCurrentBorrowings': 1059000000.0, 'investedCapital': 41040000000.0, 'otherNonCurrentAssets': 1729000000.0, 'goodwill': 22280000000.0, 'incomeTaxPayable': 84000000.0, 'receivables': 5017000000.0, 'grossPPE': 32988000000.0, 'accumulatedDepreciation': -12843000000.0, 'nonCurrentDeferredLiabilities': 1442000000.0, 'constructionInProgress': 4872000000.0, 'longTermCapitalLeaseObligation': 21517000000.0, 'machineryFurnitureEquipment': 9375000000.0, 'stockholdersEquity': 29366000000.0, 'treasuryStock': 20683000000.0, 'workingCapital': -5681000000.0, 'commonStock': 12000000.0, 'retainedEarnings': 37801000000.0, 'additionalPaidInCapital': 10950000000.0, 'ordinarySharesNumber': 864639457.0, 'properties': 0.0, 'totalAssets': 90124000000.0, 'landAndImprovements': 2333000000.0, 'currentDebtAndCapitalLeaseObligation': 3345000000.0, 'currentNotesPayable': 0.0, 'otherEquityAdjustments': -2805000000.0, 'currentAccruedExpenses': 7899000000.0}}]}}\n",
      "Time taken: 15.69 s\n"
     ]
    }
   ],
   "source": [
    "balanceSheet = {}\n",
    "incomeStatement = {}\n",
    "cashStatement = {}\n",
    "\n",
    "for stock in stocks:\n",
    "    print(stock)\n",
    "    start = time.time()\n",
    "    yahoo_financials = YahooFinancials(stock)\n",
    "    balance_sheet_data = yahoo_financials.get_financial_stmts('annual', 'balance')\n",
    "    income_statement_data = yahoo_financials.get_financial_stmts('annual', 'income')\n",
    "    cash_statement_data = yahoo_financials.get_financial_stmts('annual', 'cash')\n",
    "    \n",
    "    print(balance_sheet_data)\n",
    "    \n",
    "    balanceSheet[stock] = balance_sheet_data['balanceSheetHistory'][stock]\n",
    "    incomeStatement[stock] = income_statement_data['incomeStatementHistory'][stock]\n",
    "    cashStatement[stock] = cash_statement_data['cashflowStatementHistory'][stock]\n",
    "    \n",
    "    end = time.time()\n",
    "    print('Time taken: {:.2f} s'.format(end - start))\n",
    "    break"
   ]
  },
  {
   "cell_type": "code",
   "execution_count": 97,
   "id": "45f923b3",
   "metadata": {},
   "outputs": [],
   "source": [
    "balanceSheet = {}\n",
    "incomeStatement = {}\n",
    "cashStatement = {}\n",
    "def retrieve_stock_data(stock):\n",
    "    try:\n",
    "        print(stock)\n",
    "        yahoo_financials = YahooFinancials(stock)\n",
    "        balance_sheet_data = yahoo_financials.get_financial_stmts('annual', 'balance')\n",
    "        income_statement_data = yahoo_financials.get_financial_stmts('annual', 'income')\n",
    "        cash_statement_data = yahoo_financials.get_financial_stmts('annual', 'cash')\n",
    "        balanceSheet[stock] = balance_sheet_data['balanceSheetHistory'][stock]\n",
    "        incomeStatement[stock] = income_statement_data['incomeStatementHistory'][stock]\n",
    "        cashStatement[stock] = cash_statement_data['cashflowStatementHistory'][stock]\n",
    "    except:\n",
    "        print('error with retrieving stock data')"
   ]
  },
  {
   "cell_type": "code",
   "execution_count": 98,
   "id": "5d592c8d",
   "metadata": {},
   "outputs": [
    {
     "name": "stdout",
     "output_type": "stream",
     "text": [
      "WBA\n",
      "V\n",
      "CRM\n",
      "CVX\n",
      "PG\n",
      "VZ\n",
      "WMT\n",
      "UNH\n",
      "TRV\n",
      "MCD\n",
      "MMM\n",
      "NKE\n",
      "MRK\n",
      "MSFT\n",
      "JPM\n",
      "KO\n",
      "JNJ\n",
      "GS\n",
      "HD\n",
      "HON\n",
      "IBM\n",
      "INTC\n",
      "DIS\n",
      "CAT\n",
      "CSCO\n",
      "AXP\n",
      "BA\n",
      "AMGN\n",
      "AAPL\n",
      "DOW\n",
      "  time taken 48.59 s\n"
     ]
    }
   ],
   "source": [
    "start = time.time()\n",
    "executor = cf.ThreadPoolExecutor(16)\n",
    "futures = [executor.submit(retrieve_stock_data, stock) for stock in stocks]\n",
    "cf.wait(futures)\n",
    "end = time.time()\n",
    "print('  time taken {:.2f} s'.format(end-start))"
   ]
  },
  {
   "cell_type": "code",
   "execution_count": 99,
   "id": "663fea50",
   "metadata": {},
   "outputs": [],
   "source": [
    "with open('balanceSheet.txt', 'w') as output:\n",
    "    output.write(str(balanceSheet))\n",
    "with open('incomeStatement.txt', 'w') as output:\n",
    "    output.write(str(incomeStatement))\n",
    "with open('cashStatement.txt', 'w') as output:\n",
    "    output.write(str(cashStatement))"
   ]
  },
  {
   "cell_type": "code",
   "execution_count": 100,
   "id": "178af3f3",
   "metadata": {},
   "outputs": [],
   "source": [
    "with open('balanceSheet.txt', 'r') as input:\n",
    "    balanceSheet = ast.literal_eval(input.read())\n",
    "\n",
    "with open('incomeStatement.txt', 'r') as input:\n",
    "    incomeStatement = ast.literal_eval(input.read())"
   ]
  },
  {
   "cell_type": "code",
   "execution_count": 103,
   "id": "0b587cfe",
   "metadata": {},
   "outputs": [
    {
     "name": "stdout",
     "output_type": "stream",
     "text": [
      "Yearly data avail 0 out of 30\n",
      "Some key data missing 0 out of 30\n",
      "EPS Growth NaN 0 out of 30\n"
     ]
    }
   ],
   "source": [
    "roe_dict, epsg_dict = {}, {}\n",
    "count_missing, count_cond, count_eps_0 = 0, 0, 0\n",
    "for (keyB, valB), (keyI, valI) in zip(balanceSheet.items(), incomeStatement.items()):\n",
    "    try:\n",
    "        if keyB == keyI:\n",
    "            yearsI = [k for year in valI for k, v in year.items()]\n",
    "            yearsB = [k for year in valB for k, v in year.items()]\n",
    "            if yearsI == yearsB:\n",
    "                count_cond += 1\n",
    "                equity = [v['totalStockholderEquity'] for year in valB for k, v in year.items()]\n",
    "                commonStock = [v['commonStock'] for year in valB for k, v in year.items()]\n",
    "\n",
    "                profit = [v['grossProfit'] for year in valI for k, v in year.items()]\n",
    "                revenue = [v['totalRevenue'] for year in valI for k, v in year.items()]\n",
    "                netIncome = [v['netIncome'] for year in valI for k, v in year.items()]\n",
    "\n",
    "                roe = [round(netin/equity*100,2) for netin, equity in zip(netIncome, equity)]\n",
    "                roe_dict[keyB] = (round(sum(roe)/len(roe),2), roe)\n",
    "\n",
    "                eps = [round(earn/stono,2) for earn, stono in zip(profit, commonStock)]\n",
    "                \n",
    "                try:\n",
    "                    epsg = []\n",
    "                    for ep in range(len(eps)):\n",
    "                        if ep == 0:\n",
    "                            continue\n",
    "                        elif ep == 1:\n",
    "                            epsg.append(round(100*((eps[ep-1]/eps[ep])-1),2))\n",
    "                        elif ep == 2:\n",
    "                            epsg.append(round(100*((eps[ep-2]/eps[ep])**(1/2)-1),2))\n",
    "                            epsg.append(round(100*((eps[ep-1]/eps[ep])-1),2))\n",
    "                        elif ep == 3:\n",
    "                            epsg.append(round(100*((eps[ep-3]/eps[ep])**(1/3)-1),2))\n",
    "                            epsg.append(round(100*((eps[ep-1]/eps[ep])-1),2))\n",
    "                        else:\n",
    "                            print('More than 4 years of FY data')\n",
    "                        \n",
    "                    epsg_dict[keyB] = (round(sum(epsg)/len(epsg),2), epsg)\n",
    "                except:\n",
    "#                     print(keyB, 'eps contains 0')\n",
    "                    count_eps_0 += 1\n",
    "                    epsg_dict[keyB] = (0, eps)\n",
    "\n",
    "    except:\n",
    "#         print(keyB, 'data missing')\n",
    "        count_missing += 1\n",
    "\n",
    "print('Yearly data avail',count_cond, 'out of', len(balanceSheet))\n",
    "print('Some key data missing', count_missing, 'out of', len(balanceSheet))\n",
    "print('EPS Growth NaN', count_eps_0, 'out of', len(balanceSheet))"
   ]
  },
  {
   "cell_type": "code",
   "execution_count": 104,
   "id": "fe5c3d51",
   "metadata": {},
   "outputs": [
    {
     "name": "stdout",
     "output_type": "stream",
     "text": [
      "-------------------------------------------------- RETURN ON EQUITY --------------------------------------------------\n",
      "-------------------------------------------------- EARNINGS PER SHARE GROWTH --------------------------------------------------\n",
      "-------------------------------------------------- ROE & EPS Growth Critera --------------------------------------------------\n",
      "[]\n"
     ]
    }
   ],
   "source": [
    "ROE_req = 10\n",
    "EPSG_req = 10\n",
    "\n",
    "print('-'*50, 'RETURN ON EQUITY','-'*50)\n",
    "roe_crit = {k:v for (k,v) in roe_dict.items() if v[0] >= ROE_req and sum(n < 0 for n in v[1])==0}\n",
    "# print(roe_crit)\n",
    "print('-'*50, 'EARNINGS PER SHARE GROWTH','-'*50)\n",
    "eps_crit = {k:v for (k,v) in epsg_dict.items() if v[0] >= EPSG_req and sum(n < 0 for n in v[1])==0}\n",
    "# print(eps_crit)\n",
    "\n",
    "print('-'*50, 'ROE & EPS Growth Critera','-'*50)\n",
    "both = [key1 for key1 in roe_crit.keys() for key2 in eps_crit.keys() if key2==key1]\n",
    "print(both)"
   ]
  },
  {
   "cell_type": "code",
   "execution_count": null,
   "id": "4816ae98",
   "metadata": {},
   "outputs": [],
   "source": []
  }
 ],
 "metadata": {
  "kernelspec": {
   "display_name": "Python 3 (ipykernel)",
   "language": "python",
   "name": "python3"
  },
  "language_info": {
   "codemirror_mode": {
    "name": "ipython",
    "version": 3
   },
   "file_extension": ".py",
   "mimetype": "text/x-python",
   "name": "python",
   "nbconvert_exporter": "python",
   "pygments_lexer": "ipython3",
   "version": "3.10.9"
  }
 },
 "nbformat": 4,
 "nbformat_minor": 5
}
