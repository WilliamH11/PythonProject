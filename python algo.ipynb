{
 "cells": [
  {
   "cell_type": "code",
   "execution_count": null,
   "id": "b8564751",
   "metadata": {},
   "outputs": [],
   "source": [
    "import datetime as dt \n",
    "import pandas as pd\n",
    "import concurrent.futures as cf\n",
    "from yahoofinancials import YahooFinancials\n",
    "import re\n",
    "import ast\n",
    "import time\n",
    "import requests\n",
    "from bs4 import BeautifulSoup"
   ]
  },
  {
   "cell_type": "code",
   "execution_count": null,
   "id": "27bb4492",
   "metadata": {},
   "outputs": [],
   "source": [
    "asxComp = pd.read_csv('DJI.csv')\n",
    "stockList = asxComp.loc[:,'Symbol'].to_list()\n",
    "# len(stockList)\n",
    "stocks = [stock for stock in stockList]\n",
    "stocks_set = set(stocks)\n",
    "contains_duplicates = len(stocks_set) != len(stocks)\n",
    "contains_duplicates = any(stocks.count(stock) > 1 for stock in stockList)\n",
    "print(len(stocks_set), len(stocks), contains_duplicates)"
   ]
  },
  {
   "cell_type": "code",
   "execution_count": null,
   "id": "0c062dff",
   "metadata": {},
   "outputs": [],
   "source": [
    "balanceSheet = {}\n",
    "incomeStatement = {}\n",
    "cashStatement = {}\n",
    "\n",
    "for stock in stocks:\n",
    "    print(stock)\n",
    "    start = time.time()\n",
    "    yahoo_financials = YahooFinancials(stock)\n",
    "    balance_sheet_data = yahoo_financials.get_financial_stmts('annual', 'balance')\n",
    "    income_statement_data = yahoo_financials.get_financial_stmts('annual', 'income')\n",
    "    cash_statement_data = yahoo_financials.get_financial_stmts('annual', 'cash')\n",
    "    \n",
    "    print(balance_sheet_data)\n",
    "    \n",
    "    balanceSheet[stock] = balance_sheet_data['balanceSheetHistory'][stock]\n",
    "    incomeStatement[stock] = income_statement_data['incomeStatementHistory'][stock]\n",
    "    cashStatement[stock] = cash_statement_data['cashflowStatementHistory'][stock]\n",
    "    \n",
    "    end = time.time()\n",
    "    print('Time taken: {:.2f} s'.format(end - start))\n",
    "    break"
   ]
  },
  {
   "cell_type": "code",
   "execution_count": null,
   "id": "45f923b3",
   "metadata": {},
   "outputs": [],
   "source": [
    "balanceSheet = {}\n",
    "incomeStatement = {}\n",
    "cashStatement = {}\n",
    "def retrieve_stock_data(stock):\n",
    "    try:\n",
    "        print(stock)\n",
    "        yahoo_financials = YahooFinancials(stock)\n",
    "        balance_sheet_data = yahoo_financials.get_financial_stmts('annual', 'balance')\n",
    "        income_statement_data = yahoo_financials.get_financial_stmts('annual', 'income')\n",
    "        cash_statement_data = yahoo_financials.get_financial_stmts('annual', 'cash')\n",
    "        balanceSheet[stock] = balance_sheet_data['balanceSheetHistory'][stock]\n",
    "        incomeStatement[stock] = income_statement_data['incomeStatementHistory'][stock]\n",
    "        cashStatement[stock] = cash_statement_data['cashflowStatementHistory'][stock]\n",
    "    except:\n",
    "        print('error with retrieving stock data')"
   ]
  },
  {
   "cell_type": "code",
   "execution_count": null,
   "id": "5d592c8d",
   "metadata": {},
   "outputs": [],
   "source": [
    "start = time.time()\n",
    "executor = cf.ThreadPoolExecutor(16)\n",
    "futures = [executor.submit(retrieve_stock_data, stock) for stock in stocks]\n",
    "cf.wait(futures)\n",
    "end = time.time()\n",
    "print('  time taken {:.2f} s'.format(end-start))"
   ]
  },
  {
   "cell_type": "code",
   "execution_count": null,
   "id": "663fea50",
   "metadata": {},
   "outputs": [],
   "source": [
    "with open('balanceSheet.txt', 'w') as output:\n",
    "    output.write(str(balanceSheet))\n",
    "with open('incomeStatement.txt', 'w') as output:\n",
    "    output.write(str(incomeStatement))\n",
    "with open('cashStatement.txt', 'w') as output:\n",
    "    output.write(str(cashStatement))"
   ]
  },
  {
   "cell_type": "code",
   "execution_count": null,
   "id": "178af3f3",
   "metadata": {},
   "outputs": [],
   "source": [
    "with open('balanceSheet.txt', 'r') as input:\n",
    "    balanceSheet = ast.literal_eval(input.read())\n",
    "\n",
    "with open('incomeStatement.txt', 'r') as input:\n",
    "    incomeStatement = ast.literal_eval(input.read())"
   ]
  },
  {
   "cell_type": "code",
   "execution_count": null,
   "id": "0b587cfe",
   "metadata": {},
   "outputs": [],
   "source": [
    "roe_dict, epsg_dict = {}, {}\n",
    "count_missing, count_cond, count_eps_0 = 0, 0, 0\n",
    "for (keyB, valB), (keyI, valI) in zip(balanceSheet.items(), incomeStatement.items()):\n",
    "    try:\n",
    "        if keyB == keyI:\n",
    "            yearsI = [k for year in valI for k, v in year.items()]\n",
    "            yearsB = [k for year in valB for k, v in year.items()]\n",
    "            if yearsI == yearsB:\n",
    "                count_cond += 1\n",
    "                equity = [v['totalStockholderEquity'] for year in valB for k, v in year.items()]\n",
    "                commonStock = [v['commonStock'] for year in valB for k, v in year.items()]\n",
    "\n",
    "                profit = [v['grossProfit'] for year in valI for k, v in year.items()]\n",
    "                revenue = [v['totalRevenue'] for year in valI for k, v in year.items()]\n",
    "                netIncome = [v['netIncome'] for year in valI for k, v in year.items()]\n",
    "\n",
    "                roe = [round(netin/equity*100,2) for netin, equity in zip(netIncome, equity)]\n",
    "                roe_dict[keyB] = (round(sum(roe)/len(roe),2), roe)\n",
    "\n",
    "                eps = [round(earn/stono,2) for earn, stono in zip(profit, commonStock)]\n",
    "                \n",
    "                try:\n",
    "                    epsg = []\n",
    "                    for ep in range(len(eps)):\n",
    "                        if ep == 0:\n",
    "                            continue\n",
    "                        elif ep == 1:\n",
    "                            epsg.append(round(100*((eps[ep-1]/eps[ep])-1),2))\n",
    "                        elif ep == 2:\n",
    "                            epsg.append(round(100*((eps[ep-2]/eps[ep])**(1/2)-1),2))\n",
    "                            epsg.append(round(100*((eps[ep-1]/eps[ep])-1),2))\n",
    "                        elif ep == 3:\n",
    "                            epsg.append(round(100*((eps[ep-3]/eps[ep])**(1/3)-1),2))\n",
    "                            epsg.append(round(100*((eps[ep-1]/eps[ep])-1),2))\n",
    "                        else:\n",
    "                            print('More than 4 years of FY data')\n",
    "                        \n",
    "                    epsg_dict[keyB] = (round(sum(epsg)/len(epsg),2), epsg)\n",
    "                except:\n",
    "#                     print(keyB, 'eps contains 0')\n",
    "                    count_eps_0 += 1\n",
    "                    epsg_dict[keyB] = (0, eps)\n",
    "\n",
    "    except:\n",
    "#         print(keyB, 'data missing')\n",
    "        count_missing += 1\n",
    "\n",
    "print('Yearly data avail',count_cond, 'out of', len(balanceSheet))\n",
    "print('Some key data missing', count_missing, 'out of', len(balanceSheet))\n",
    "print('EPS Growth NaN', count_eps_0, 'out of', len(balanceSheet))"
   ]
  },
  {
   "cell_type": "code",
   "execution_count": null,
   "id": "fe5c3d51",
   "metadata": {},
   "outputs": [],
   "source": [
    "ROE_req = 10\n",
    "EPSG_req = 10\n",
    "\n",
    "print('-'*50, 'RETURN ON EQUITY','-'*50)\n",
    "roe_crit = {k:v for (k,v) in roe_dict.items() if v[0] >= ROE_req and sum(n < 0 for n in v[1])==0}\n",
    "# print(roe_crit)\n",
    "print('-'*50, 'EARNINGS PER SHARE GROWTH','-'*50)\n",
    "eps_crit = {k:v for (k,v) in epsg_dict.items() if v[0] >= EPSG_req and sum(n < 0 for n in v[1])==0}\n",
    "# print(eps_crit)\n",
    "\n",
    "print('-'*50, 'ROE & EPS Growth Critera','-'*50)\n",
    "both = [key1 for key1 in roe_crit.keys() for key2 in eps_crit.keys() if key2==key1]\n",
    "print(both)"
   ]
  }
 ],
 "metadata": {
  "kernelspec": {
   "display_name": "Python 3 (ipykernel)",
   "language": "python",
   "name": "python3"
  },
  "language_info": {
   "codemirror_mode": {
    "name": "ipython",
    "version": 3
   },
   "file_extension": ".py",
   "mimetype": "text/x-python",
   "name": "python",
   "nbconvert_exporter": "python",
   "pygments_lexer": "ipython3",
   "version": "3.10.9"
  }
 },
 "nbformat": 4,
 "nbformat_minor": 5
}
